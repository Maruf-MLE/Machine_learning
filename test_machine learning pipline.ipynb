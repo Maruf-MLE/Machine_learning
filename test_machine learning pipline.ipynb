import pickle
import pandas as pd
import numpy as np
from sklearn.metrics import accuracy_score

# File: test_pipeline.py

def test_pipeline():
    # Load the pipeline
    with open('pipe.pkl', 'rb') as f:
        pipe = pickle.load(f)

    # Create a mock dataset
    data = {
        'Pclass': [3, 1],
        'Sex': ['male', 'female'],
        'Age': [22, 38],
        'SibSp': [1, 1],
        'Parch': [0, 0],
        'Fare': [7.25, 71.2833],
        'Embarked': ['S', 'C']
    }
    df = pd.DataFrame(data)

    # Mock target variable
    y_true = np.array([0, 1])

    # Predict using the pipeline
    y_pred = pipe.predict(df)

    # Check the accuracy
    accuracy = accuracy_score(y_true, y_pred)
    assert accuracy >= 0.5, "Pipeline accuracy is too low!"

if __name__ == "__main__":
    test_pipeline()