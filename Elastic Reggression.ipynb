{
 "cells": [
  {
   "cell_type": "code",
   "execution_count": 1,
   "id": "c42cad3a",
   "metadata": {},
   "outputs": [
    {
     "name": "stdout",
     "output_type": "stream",
     "text": [
      "Predictions: [36.33422257 44.24339464 57.88930615 27.57300172 54.01277596]\n",
      "Mean Squared Error: 33.31641593294418\n",
      "Model Coefficients: [4.88469066 1.00816047]\n",
      "Intercept: 6.8699669098295075\n"
     ]
    }
   ],
   "source": [
    "import numpy as np\n",
    "import pandas as pd\n",
    "from sklearn.linear_model import ElasticNet\n",
    "from sklearn.model_selection import train_test_split\n",
    "from sklearn.metrics import mean_squared_error\n",
    "\n",
    "\n",
    "np.random.seed(42)\n",
    "hours_studied = np.random.randint(1, 10, 100)\n",
    "sleep_hours = np.random.randint(5, 9, 100)\n",
    "exam_score = 5 * hours_studied + 2 * sleep_hours + np.random.normal(0, 5, 100)\n",
    "\n",
    "data = pd.DataFrame({\n",
    "    'Hours_Studied': hours_studied,\n",
    "    'Sleep_Hours': sleep_hours,\n",
    "    'Exam_Score': exam_score\n",
    "})\n",
    "\n",
    "\n",
    "X = data[['Hours_Studied', 'Sleep_Hours']]\n",
    "y = data['Exam_Score']\n",
    "\n",
    "X_train, X_test, y_train, y_test = train_test_split(X, y, test_size=0.2, random_state=42)\n",
    "\n",
    "\n",
    "model = ElasticNet(alpha=1.0, l1_ratio=0.5)   \n",
    "model.fit(X_train, y_train)\n",
    "\n",
    "# Step 5: প্রেডিকশন এবং মূল্যায়ন\n",
    "y_pred = model.predict(X_test)\n",
    "mse = mean_squared_error(y_test, y_pred)\n",
    "\n",
    "print(\"Predictions:\", y_pred[:5])\n",
    "print(\"Mean Squared Error:\", mse)\n",
    "print(\"Model Coefficients:\", model.coef_)\n",
    "print(\"Intercept:\", model.intercept_)\n"
   ]
  },
  {
   "cell_type": "code",
   "execution_count": null,
   "id": "8fd34968",
   "metadata": {},
   "outputs": [],
   "source": []
  }
 ],
 "metadata": {
  "kernelspec": {
   "display_name": "Python 3",
   "language": "python",
   "name": "python3"
  },
  "language_info": {
   "codemirror_mode": {
    "name": "ipython",
    "version": 3
   },
   "file_extension": ".py",
   "mimetype": "text/x-python",
   "name": "python",
   "nbconvert_exporter": "python",
   "pygments_lexer": "ipython3",
   "version": "3.13.2"
  }
 },
 "nbformat": 4,
 "nbformat_minor": 5
}
