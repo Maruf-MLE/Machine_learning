{
 "cells": [
  {
   "cell_type": "code",
   "execution_count": 1,
   "metadata": {},
   "outputs": [],
   "source": [
    "class MyLR:\n",
    "    def __init__(self):\n",
    "        self.m=None\n",
    "        self.b=None\n",
    "    \n",
    "    def fit(self,X_train,Y_train):\n",
    "        num=0\n",
    "        den=0\n",
    "        for i in range(X_train.shape[0]):\n",
    "            num=num + ((X_train[i]-X_train.mean()) * (Y_train[i]-Y_train.mean()))\n",
    "            den=den + (X_train[i]-X_train.mean()) * (X_train[i]-X_train.mean())\n",
    "            self.m=num/den\n",
    "            self.b=Y_train.mean() - self.m * X_train.mean()\n",
    "        \n",
    "    def predict(self,X_test):\n",
    "        \n",
    "        return self.m * X_test + self.b"
   ]
  },
  {
   "cell_type": "code",
   "execution_count": 3,
   "metadata": {},
   "outputs": [],
   "source": [
    "import numpy as np\n",
    "import pandas as pd"
   ]
  },
  {
   "cell_type": "code",
   "execution_count": 7,
   "metadata": {},
   "outputs": [
    {
     "data": {
      "text/html": [
       "<div>\n",
       "<style scoped>\n",
       "    .dataframe tbody tr th:only-of-type {\n",
       "        vertical-align: middle;\n",
       "    }\n",
       "\n",
       "    .dataframe tbody tr th {\n",
       "        vertical-align: top;\n",
       "    }\n",
       "\n",
       "    .dataframe thead th {\n",
       "        text-align: right;\n",
       "    }\n",
       "</style>\n",
       "<table border=\"1\" class=\"dataframe\">\n",
       "  <thead>\n",
       "    <tr style=\"text-align: right;\">\n",
       "      <th></th>\n",
       "      <th>cgpa</th>\n",
       "      <th>placement_exam_marks</th>\n",
       "      <th>placed</th>\n",
       "    </tr>\n",
       "  </thead>\n",
       "  <tbody>\n",
       "    <tr>\n",
       "      <th>0</th>\n",
       "      <td>7.19</td>\n",
       "      <td>26.0</td>\n",
       "      <td>1</td>\n",
       "    </tr>\n",
       "    <tr>\n",
       "      <th>1</th>\n",
       "      <td>7.46</td>\n",
       "      <td>38.0</td>\n",
       "      <td>1</td>\n",
       "    </tr>\n",
       "    <tr>\n",
       "      <th>2</th>\n",
       "      <td>7.54</td>\n",
       "      <td>40.0</td>\n",
       "      <td>1</td>\n",
       "    </tr>\n",
       "    <tr>\n",
       "      <th>3</th>\n",
       "      <td>6.42</td>\n",
       "      <td>8.0</td>\n",
       "      <td>1</td>\n",
       "    </tr>\n",
       "    <tr>\n",
       "      <th>4</th>\n",
       "      <td>7.23</td>\n",
       "      <td>17.0</td>\n",
       "      <td>0</td>\n",
       "    </tr>\n",
       "  </tbody>\n",
       "</table>\n",
       "</div>"
      ],
      "text/plain": [
       "   cgpa  placement_exam_marks  placed\n",
       "0  7.19                  26.0       1\n",
       "1  7.46                  38.0       1\n",
       "2  7.54                  40.0       1\n",
       "3  6.42                   8.0       1\n",
       "4  7.23                  17.0       0"
      ]
     },
     "execution_count": 7,
     "metadata": {},
     "output_type": "execute_result"
    }
   ],
   "source": [
    "df=pd.read_csv('placement.csv')\n",
    "df.head()"
   ]
  },
  {
   "cell_type": "code",
   "execution_count": 8,
   "metadata": {},
   "outputs": [
    {
     "data": {
      "text/html": [
       "<div>\n",
       "<style scoped>\n",
       "    .dataframe tbody tr th:only-of-type {\n",
       "        vertical-align: middle;\n",
       "    }\n",
       "\n",
       "    .dataframe tbody tr th {\n",
       "        vertical-align: top;\n",
       "    }\n",
       "\n",
       "    .dataframe thead th {\n",
       "        text-align: right;\n",
       "    }\n",
       "</style>\n",
       "<table border=\"1\" class=\"dataframe\">\n",
       "  <thead>\n",
       "    <tr style=\"text-align: right;\">\n",
       "      <th></th>\n",
       "      <th>cgpa</th>\n",
       "      <th>placed</th>\n",
       "    </tr>\n",
       "  </thead>\n",
       "  <tbody>\n",
       "    <tr>\n",
       "      <th>0</th>\n",
       "      <td>7.19</td>\n",
       "      <td>1</td>\n",
       "    </tr>\n",
       "    <tr>\n",
       "      <th>1</th>\n",
       "      <td>7.46</td>\n",
       "      <td>1</td>\n",
       "    </tr>\n",
       "    <tr>\n",
       "      <th>2</th>\n",
       "      <td>7.54</td>\n",
       "      <td>1</td>\n",
       "    </tr>\n",
       "    <tr>\n",
       "      <th>3</th>\n",
       "      <td>6.42</td>\n",
       "      <td>1</td>\n",
       "    </tr>\n",
       "    <tr>\n",
       "      <th>4</th>\n",
       "      <td>7.23</td>\n",
       "      <td>0</td>\n",
       "    </tr>\n",
       "  </tbody>\n",
       "</table>\n",
       "</div>"
      ],
      "text/plain": [
       "   cgpa  placed\n",
       "0  7.19       1\n",
       "1  7.46       1\n",
       "2  7.54       1\n",
       "3  6.42       1\n",
       "4  7.23       0"
      ]
     },
     "execution_count": 8,
     "metadata": {},
     "output_type": "execute_result"
    }
   ],
   "source": [
    "df=df.drop(columns=['placement_exam_marks'])\n",
    "df.head()\n"
   ]
  },
  {
   "cell_type": "code",
   "execution_count": null,
   "metadata": {},
   "outputs": [
    {
     "data": {
      "text/plain": [
       "array([1, 1, 1, 1, 0, 1, 0, 1, 0, 1, 1, 1, 1, 0, 0, 0, 0, 1, 0, 0, 0, 1,\n",
       "       1, 0, 0, 1, 1, 0, 0, 1, 0, 0, 1, 0, 0, 0, 1, 1, 1, 0, 1, 0, 1, 0,\n",
       "       0, 1, 0, 0, 0, 1, 1, 1, 1, 1, 1, 0, 1, 0, 0, 1, 1, 0, 0, 0, 1, 1,\n",
       "       1, 1, 0, 0, 1, 1, 0, 1, 1, 1, 0, 1, 0, 1, 1, 1, 0, 1, 1, 0, 1, 1,\n",
       "       0, 0, 1, 1, 0, 0, 1, 1, 1, 1, 0, 0, 0, 1, 1, 1, 1, 1, 0, 0, 0, 1,\n",
       "       0, 0, 0, 0, 1, 0, 0, 1, 0, 0, 1, 0, 0, 0, 0, 1, 0, 1, 0, 1, 0, 1,\n",
       "       0, 1, 0, 0, 0, 0, 1, 1, 1, 0, 1, 1, 0, 0, 1, 0, 1, 0, 0, 1, 0, 1,\n",
       "       1, 0, 0, 1, 0, 0, 1, 1, 0, 1, 1, 0, 0, 1, 1, 1, 0, 1, 1, 0, 1, 1,\n",
       "       1, 1, 0, 1, 0, 0, 0, 1, 0, 0, 1, 1, 1, 0, 0, 0, 0, 0, 0, 0, 1, 0,\n",
       "       1, 1, 0, 0, 1, 0, 1, 1, 0, 0, 1, 0, 1, 0, 0, 1, 1, 0, 1, 0, 0, 0,\n",
       "       1, 1, 0, 1, 0, 1, 1, 0, 0, 0, 1, 0, 0, 0, 0, 1, 1, 1, 0, 1, 0, 0,\n",
       "       0, 0, 0, 0, 0, 0, 0, 0, 1, 0, 1, 0, 0, 0, 1, 0, 1, 0, 1, 1, 1, 1,\n",
       "       1, 0, 1, 0, 0, 0, 1, 1, 1, 0, 1, 0, 0, 1, 1, 1, 0, 1, 1, 0, 1, 1,\n",
       "       1, 1, 0, 1, 0, 1, 0, 1, 0, 0, 0, 1, 0, 1, 1, 1, 0, 0, 1, 1, 0, 1,\n",
       "       1, 1, 0, 1, 1, 1, 1, 0, 1, 0, 0, 0, 1, 0, 1, 0, 0, 0, 0, 0, 1, 0,\n",
       "       1, 1, 0, 1, 1, 1, 1, 0, 1, 1, 0, 1, 0, 1, 1, 1, 0, 1, 1, 0, 0, 0,\n",
       "       1, 1, 1, 1, 1, 1, 0, 0, 0, 1, 1, 0, 1, 0, 0, 0, 0, 1, 1, 0, 0, 0,\n",
       "       0, 0, 0, 1, 1, 0, 1, 0, 0, 1, 0, 0, 0, 1, 0, 1, 1, 1, 0, 0, 1, 0,\n",
       "       1, 0, 0, 1, 1, 0, 1, 0, 1, 1, 1, 1, 1, 0, 1, 0, 1, 1, 1, 1, 1, 0,\n",
       "       0, 0, 0, 0, 0, 0, 0, 0, 0, 1, 0, 0, 1, 0, 1, 1, 0, 0, 0, 0, 0, 1,\n",
       "       0, 1, 1, 0, 1, 0, 1, 1, 0, 0, 1, 0, 1, 1, 0, 0, 1, 0, 0, 1, 1, 0,\n",
       "       1, 1, 1, 0, 0, 0, 0, 1, 0, 0, 1, 0, 1, 0, 0, 0, 1, 0, 0, 0, 0, 0,\n",
       "       0, 1, 1, 0, 0, 0, 0, 1, 1, 0, 0, 1, 1, 1, 0, 0, 1, 0, 1, 1, 0, 1,\n",
       "       1, 1, 1, 0, 1, 0, 1, 0, 0, 0, 0, 1, 0, 1, 1, 1, 1, 0, 0, 0, 0, 0,\n",
       "       1, 0, 1, 1, 0, 0, 1, 0, 1, 1, 0, 0, 0, 1, 0, 0, 1, 1, 1, 0, 1, 1,\n",
       "       1, 1, 0, 0, 1, 0, 1, 0, 0, 1, 0, 0, 0, 1, 1, 1, 0, 1, 0, 0, 0, 1,\n",
       "       1, 1, 0, 0, 1, 1, 0, 0, 1, 0, 1, 0, 1, 1, 0, 1, 0, 0, 1, 0, 1, 0,\n",
       "       0, 1, 1, 0, 1, 0, 1, 1, 0, 1, 1, 0, 0, 1, 1, 0, 1, 1, 1, 1, 0, 0,\n",
       "       1, 0, 0, 0, 1, 1, 1, 1, 1, 1, 1, 1, 0, 1, 1, 0, 0, 1, 0, 0, 1, 0,\n",
       "       1, 1, 1, 0, 1, 0, 1, 0, 1, 1, 0, 1, 0, 1, 1, 0, 0, 0, 1, 0, 0, 0,\n",
       "       1, 0, 1, 1, 0, 0, 1, 0, 0, 1, 1, 0, 0, 0, 1, 0, 1, 0, 1, 0, 0, 1,\n",
       "       1, 0, 0, 1, 1, 0, 0, 0, 0, 0, 0, 1, 0, 1, 0, 1, 0, 0, 1, 1, 0, 0,\n",
       "       1, 1, 1, 1, 0, 1, 1, 1, 1, 0, 1, 1, 1, 0, 1, 0, 0, 0, 0, 1, 0, 0,\n",
       "       0, 0, 0, 1, 1, 0, 1, 0, 1, 1, 1, 1, 1, 0, 1, 0, 0, 1, 0, 1, 1, 0,\n",
       "       0, 1, 1, 1, 0, 0, 0, 0, 1, 0, 0, 1, 1, 0, 1, 1, 1, 0, 0, 0, 1, 1,\n",
       "       1, 1, 0, 0, 0, 0, 0, 0, 0, 0, 0, 1, 0, 1, 0, 1, 1, 0, 0, 0, 0, 1,\n",
       "       0, 0, 1, 1, 0, 1, 0, 1, 0, 0, 0, 1, 0, 0, 0, 1, 0, 1, 1, 0, 0, 1,\n",
       "       1, 0, 1, 0, 0, 0, 0, 0, 1, 0, 1, 0, 0, 0, 1, 0, 0, 1, 0, 1, 1, 1,\n",
       "       1, 0, 0, 1, 1, 1, 1, 0, 1, 0, 0, 1, 1, 1, 1, 0, 1, 0, 1, 1, 1, 1,\n",
       "       0, 0, 0, 0, 1, 1, 0, 0, 0, 0, 0, 1, 1, 0, 0, 1, 0, 1, 0, 0, 0, 0,\n",
       "       0, 0, 1, 1, 1, 1, 1, 1, 1, 0, 0, 1, 1, 1, 0, 1, 0, 1, 1, 1, 1, 1,\n",
       "       1, 1, 0, 0, 1, 1, 1, 1, 1, 1, 1, 1, 0, 0, 1, 0, 0, 0, 1, 1, 1, 0,\n",
       "       1, 1, 0, 1, 0, 0, 1, 0, 0, 0, 0, 1, 0, 0, 0, 0, 0, 0, 0, 0, 1, 1,\n",
       "       0, 0, 0, 0, 1, 1, 1, 0, 1, 1, 0, 1, 0, 1, 1, 0, 1, 0, 1, 1, 1, 0,\n",
       "       0, 0, 1, 1, 0, 1, 0, 1, 0, 0, 0, 1, 0, 0, 0, 1, 1, 0, 1, 0, 1, 0,\n",
       "       1, 0, 0, 1, 0, 1, 1, 0, 1, 1])"
      ]
     },
     "execution_count": 10,
     "metadata": {},
     "output_type": "execute_result"
    }
   ],
   "source": [
    "x=df.iloc[:,0].values\n",
    "y=df.iloc[:,1].values\n"
   ]
  },
  {
   "cell_type": "code",
   "execution_count": null,
   "metadata": {},
   "outputs": [
    {
     "data": {
      "text/plain": [
       "array([7.57, 5.52, 6.75, 7.71, 5.77, 6.9 , 6.97, 6.4 , 7.12, 7.82, 5.74,\n",
       "       6.55, 7.46, 7.78, 7.29, 7.  , 6.93, 6.98, 7.34, 7.42, 6.51, 6.59,\n",
       "       6.01, 7.07, 6.1 , 6.74, 7.61, 6.93, 6.96, 6.87, 7.31, 7.49, 7.24,\n",
       "       7.08, 6.1 , 6.76, 5.97, 7.11, 6.84, 5.92, 7.2 , 6.22, 6.34, 6.64,\n",
       "       7.06, 7.21, 7.96, 7.03, 7.22, 7.34, 6.87, 7.32, 7.14, 7.8 , 6.67,\n",
       "       6.49, 6.31, 7.2 , 6.38, 6.87, 6.94, 7.  , 7.95, 7.46, 6.82, 7.73,\n",
       "       6.85, 7.  , 7.07, 7.31, 7.37, 5.74, 7.47, 7.52, 7.23, 7.56, 8.29,\n",
       "       7.16, 7.01, 6.95, 7.31, 6.74, 6.51, 7.41, 7.97, 7.  , 6.22, 8.03,\n",
       "       6.04, 5.68, 6.9 , 6.57, 6.26, 7.18, 7.03, 6.5 , 6.37, 6.18, 7.49,\n",
       "       6.81, 7.61, 6.67, 7.16, 6.74, 6.77, 6.48, 6.24, 6.52, 7.33, 7.31,\n",
       "       7.17, 6.63, 8.21, 7.18, 7.9 , 7.54, 7.23, 6.3 , 7.07, 6.58, 7.19,\n",
       "       7.98, 6.59, 6.17, 5.94, 6.21, 6.86, 7.3 , 6.52, 6.38, 6.9 , 7.2 ,\n",
       "       6.87, 7.12, 7.17, 6.28, 7.46, 5.91, 6.63, 7.65, 6.73, 7.31, 5.48,\n",
       "       6.12, 6.24, 8.04, 7.28, 5.83, 6.55, 7.67, 7.31, 7.45, 8.12, 7.5 ,\n",
       "       6.6 , 7.2 , 5.42, 6.91, 6.6 , 7.89, 6.23, 7.62, 6.97, 7.51, 7.72,\n",
       "       8.5 , 7.34, 6.58, 6.83, 6.53, 7.13, 6.82, 8.56, 7.15, 7.39, 6.62,\n",
       "       7.33, 6.32, 7.25, 6.68, 6.6 , 6.9 , 6.51, 7.2 , 6.  , 6.94, 6.23,\n",
       "       7.35, 6.75, 7.93, 5.9 , 5.91, 6.43, 9.12, 7.35, 6.4 , 7.66, 7.05,\n",
       "       6.56, 7.55, 7.19, 5.95, 7.42, 7.13, 6.89, 6.42, 7.05, 6.26, 5.91,\n",
       "       7.63, 7.35, 6.37, 6.67, 6.7 , 6.82, 6.97, 7.4 , 6.88, 7.53, 7.24,\n",
       "       6.29, 6.73, 8.35, 7.5 , 6.78, 6.5 , 7.42, 7.32, 7.63, 7.36, 6.86,\n",
       "       6.99, 6.17, 7.08, 6.76, 7.25, 6.13, 6.78, 7.38, 6.2 , 8.06, 6.55,\n",
       "       8.02, 7.11, 7.11, 6.32, 6.55, 6.25, 6.88, 7.18, 6.26, 6.91, 6.94,\n",
       "       6.77, 7.11, 7.62, 7.09, 7.16, 5.72, 7.75, 8.62, 6.73, 7.85, 7.25,\n",
       "       6.33, 7.84, 6.82, 8.09, 6.89, 7.37, 7.94, 6.51, 7.59, 7.53, 6.81,\n",
       "       6.83, 7.36, 7.42, 8.23, 7.25, 7.03, 7.94, 8.19, 7.43, 7.45, 7.04,\n",
       "       6.74, 7.51, 6.61, 6.58, 6.46, 7.46, 6.48, 6.08, 6.69, 8.19, 7.28,\n",
       "       6.57, 7.38, 7.45, 7.68, 7.48, 6.84, 7.43, 7.62, 7.27, 7.65, 6.67,\n",
       "       6.47, 6.78, 6.87, 7.53, 6.7 , 6.35, 6.29, 6.76, 7.67, 6.16, 7.45,\n",
       "       7.64, 7.23, 7.03, 7.68, 6.44, 6.96, 6.6 , 6.96, 6.7 , 7.23, 8.13,\n",
       "       6.55, 7.3 , 7.19, 7.51, 7.03, 6.65, 7.08, 7.57, 7.94, 6.44, 5.72,\n",
       "       6.92, 8.53, 7.15, 6.92, 6.17, 6.05, 5.82, 6.71, 6.56, 6.28, 6.94,\n",
       "       6.39, 7.24, 6.77, 6.73, 6.75, 5.99, 4.9 , 6.39, 6.61, 8.09, 6.9 ,\n",
       "       6.3 , 7.39, 7.3 , 7.38, 7.39, 7.09, 7.41, 7.91, 7.04, 6.7 , 6.69,\n",
       "       8.2 , 6.38, 7.95, 8.42, 6.65, 7.73, 7.02, 7.36, 7.13, 6.95, 6.97,\n",
       "       6.79, 7.76, 7.01, 6.12, 6.33, 6.25, 5.58, 6.37, 6.19, 6.42, 7.46,\n",
       "       7.33, 6.81, 7.18, 7.47, 7.23, 6.89, 6.03, 6.52, 8.09, 6.76, 7.22,\n",
       "       8.15, 6.63, 7.29, 7.45, 7.37, 7.82, 7.17, 6.98, 6.11, 7.08, 7.05,\n",
       "       7.26, 7.08, 8.39, 6.63, 7.19, 7.72, 7.33, 6.08, 6.16, 7.28, 6.31,\n",
       "       6.95, 7.89, 7.56, 7.08, 6.53, 6.45, 7.26, 7.29, 7.61, 7.18, 6.68,\n",
       "       6.98, 6.65, 6.83, 7.59, 6.21, 7.8 , 6.59, 7.21, 6.13, 5.9 , 6.32,\n",
       "       7.  , 7.16, 6.84, 7.62, 6.17, 6.7 , 7.16, 6.24, 6.86, 7.33, 6.02,\n",
       "       6.91, 7.89, 6.97, 6.47, 6.56, 7.8 , 6.65, 6.93, 6.46, 8.12, 6.69,\n",
       "       6.31, 6.54, 7.2 , 6.68, 7.82, 7.09, 6.75, 6.32, 5.98, 5.73, 6.71,\n",
       "       6.49, 7.32, 6.63, 7.03, 7.35, 5.66, 6.67, 6.31, 7.09, 7.74, 6.38,\n",
       "       7.78, 6.95, 6.64, 7.  , 5.86, 6.95, 7.23, 7.73, 6.23, 7.14, 6.91,\n",
       "       6.43, 6.58, 7.25, 6.78, 6.55, 6.48, 6.58, 6.95, 6.79, 7.24, 7.84,\n",
       "       6.03, 7.54, 7.25, 6.07, 7.35, 6.77, 7.69, 6.83, 7.35, 6.82, 6.39,\n",
       "       7.25, 6.73, 6.72, 7.41, 7.02, 6.98, 7.8 , 7.09, 7.25, 6.18, 7.33,\n",
       "       7.22, 6.8 , 6.59, 7.1 , 5.62, 6.96, 6.98, 6.8 , 6.64, 7.13, 7.1 ,\n",
       "       6.67, 7.92, 7.07, 6.29, 6.66, 7.65, 7.36, 7.29, 6.37, 7.88, 7.6 ,\n",
       "       6.63, 7.75, 6.85, 8.12, 7.92, 6.86, 7.65, 7.17, 5.23, 7.63, 8.43,\n",
       "       7.28, 7.19, 7.09, 7.12, 7.12, 7.15, 7.78, 7.48, 6.74, 6.85, 7.32,\n",
       "       6.65, 7.91, 7.59, 6.81, 7.75, 6.92, 6.89, 7.03, 8.87, 7.48, 7.11,\n",
       "       6.16, 8.38, 6.37, 6.51, 6.29, 7.6 , 5.97, 7.45, 7.84, 6.37, 7.93,\n",
       "       6.63, 7.89, 6.97, 6.68, 6.57, 6.41, 7.65, 6.97, 6.81, 6.45, 7.33,\n",
       "       7.28, 6.13, 7.83, 6.86, 7.04, 6.72, 7.43, 7.56, 6.24, 6.6 , 6.19,\n",
       "       5.95, 6.77, 7.2 , 7.32, 6.68, 7.77, 7.3 , 6.87, 6.99, 8.23, 6.95,\n",
       "       7.15, 6.43, 5.48, 6.71, 8.02, 5.64, 6.69, 6.67, 6.06, 7.4 , 6.26,\n",
       "       6.22, 6.49, 6.89, 6.78, 7.08, 6.69, 6.54, 7.19, 6.79, 7.33, 6.79,\n",
       "       8.02, 6.63, 7.14, 6.86, 6.69, 6.81, 7.36, 7.45, 7.39, 7.51, 7.36,\n",
       "       6.07, 7.7 , 7.06, 7.54, 6.91, 6.87, 5.78, 7.85, 5.72, 6.69, 6.67,\n",
       "       6.9 , 6.86, 7.93, 6.62, 7.58, 6.27, 6.48, 7.89, 7.68, 6.55, 4.92,\n",
       "       7.46, 7.56, 7.51, 7.12, 7.35, 6.64, 7.33, 6.73, 6.93, 7.63, 7.43,\n",
       "       7.19, 6.84, 6.55, 7.6 , 7.07, 8.15, 7.68, 7.53, 7.17, 6.38, 7.36,\n",
       "       6.89, 7.58, 6.5 , 6.46, 7.09, 7.38, 6.6 , 7.11, 6.47, 6.78, 7.9 ,\n",
       "       7.23, 7.85, 7.13, 7.02, 7.13, 7.09, 6.74, 6.55, 6.76, 6.98, 6.82,\n",
       "       7.64, 7.84, 4.89, 7.01, 7.15, 7.03, 7.16, 7.07, 7.05, 7.53, 8.06,\n",
       "       7.71, 6.2 , 7.41, 7.17, 7.09, 6.44, 7.66, 5.91, 7.36, 6.92, 7.13,\n",
       "       7.95, 7.91, 6.78, 6.65, 6.6 , 7.76, 5.96, 7.04, 6.35, 6.62, 7.61,\n",
       "       6.24, 5.73, 6.27, 6.63, 5.92, 6.71, 6.7 , 6.23, 7.12, 6.2 , 8.02,\n",
       "       6.14, 6.24, 6.81, 6.92, 6.34, 7.58, 7.76, 5.77, 6.73, 8.11, 7.24,\n",
       "       6.77, 6.45, 6.75, 6.05, 6.57, 6.8 , 7.72, 6.51])"
      ]
     },
     "execution_count": 11,
     "metadata": {},
     "output_type": "execute_result"
    }
   ],
   "source": [
    "from sklearn.model_selection import train_test_split\n",
    "X_train,X_test,Y_train,Y_test=train_test_split(x,y,test_size=0.2,random_state=2)\n",
    "X_train"
   ]
  },
  {
   "cell_type": "code",
   "execution_count": 12,
   "metadata": {},
   "outputs": [],
   "source": [
    "model=MyLR()"
   ]
  },
  {
   "cell_type": "code",
   "execution_count": 13,
   "metadata": {},
   "outputs": [],
   "source": [
    "model.fit(X_train,Y_train)"
   ]
  },
  {
   "cell_type": "code",
   "execution_count": 16,
   "metadata": {},
   "outputs": [
    {
     "data": {
      "text/plain": [
       "np.float64(0.4519658755569409)"
      ]
     },
     "execution_count": 16,
     "metadata": {},
     "output_type": "execute_result"
    }
   ],
   "source": [
    "model.predict(X_test)\n",
    "model.predict(5)"
   ]
  },
  {
   "cell_type": "code",
   "execution_count": 28,
   "metadata": {},
   "outputs": [],
   "source": [
    "import matplotlib.pyplot as plt"
   ]
  },
  {
   "cell_type": "code",
   "execution_count": 29,
   "metadata": {},
   "outputs": [
    {
     "data": {
      "image/png": "[encoded data removed]",
      "text/plain": [
       "<Figure size 640x480 with 1 Axes>"
      ]
     },
     "metadata": {},
     "output_type": "display_data"
    }
   ],
   "source": [
    "plt.scatter(df['cgpa'],df['placed'])\n",
    "plt.plot(X_train,model.predict(X_train),color='red')\n",
    "plt.xlabel('Cgpa')\n",
    "plt.ylabel('Placement')\n",
    "plt.show()"
   ]
  },
  {
   "cell_type": "code",
   "execution_count": 17,
   "metadata": {},
   "outputs": [],
   "source": [
    "from sklearn.metrics import mean_absolute_error,mean_squared_error,r2_score"
   ]
  },
  {
   "cell_type": "code",
   "execution_count": 18,
   "metadata": {},
   "outputs": [],
   "source": [
    "Y_pred=model.predict(X_test)"
   ]
  },
  {
   "cell_type": "code",
   "execution_count": 19,
   "metadata": {},
   "outputs": [
    {
     "name": "stdout",
     "output_type": "stream",
     "text": [
      "MAE 6.413733389343862\n"
     ]
    }
   ],
   "source": [
    "print('MAE',mean_absolute_error(Y_pred,X_test))"
   ]
  },
  {
   "cell_type": "code",
   "execution_count": 20,
   "metadata": {},
   "outputs": [
    {
     "name": "stdout",
     "output_type": "stream",
     "text": [
      "MSE 41.52584450377886\n"
     ]
    }
   ],
   "source": [
    "print('MSE',mean_squared_error(Y_pred,X_test))"
   ]
  },
  {
   "cell_type": "code",
   "execution_count": 21,
   "metadata": {},
   "outputs": [
    {
     "name": "stdout",
     "output_type": "stream",
     "text": [
      "RMAE 2.5325349729754696\n"
     ]
    }
   ],
   "source": [
    "print('RMAE',np.sqrt(mean_absolute_error(Y_pred,X_test)))"
   ]
  },
  {
   "cell_type": "code",
   "execution_count": 23,
   "metadata": {},
   "outputs": [
    {
     "name": "stdout",
     "output_type": "stream",
     "text": [
      "R2_score -565689.284052221\n"
     ]
    }
   ],
   "source": [
    "print('R2_score',r2_score(Y_pred,X_test))"
   ]
  },
  {
   "cell_type": "code",
   "execution_count": null,
   "metadata": {},
   "outputs": [],
   "source": []
  }
 ],
 "metadata": {
  "kernelspec": {
   "display_name": "Python 3",
   "language": "python",
   "name": "python3"
  },
  "language_info": {
   "codemirror_mode": {
    "name": "ipython",
    "version": 3
   },
   "file_extension": ".py",
   "mimetype": "text/x-python",
   "name": "python",
   "nbconvert_exporter": "python",
   "pygments_lexer": "ipython3",
   "version": "3.13.2"
  }
 },
 "nbformat": 4,
 "nbformat_minor": 2
}
